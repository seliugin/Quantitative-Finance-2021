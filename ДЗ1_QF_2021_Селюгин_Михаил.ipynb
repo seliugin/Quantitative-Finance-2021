{
 "cells": [
  {
   "cell_type": "markdown",
   "metadata": {
    "id": "lzTwe-zincFU"
   },
   "source": [
    "# Домашнее задание 1\n",
    "\n",
    "Даны цены на следующие облигации:\n",
    "\n",
    "* Бескупонная облигация сроком на полгода: 98708.4135\n",
    "* Облигация на год, с купонным платежом 1.5%, раз в полгода: 99980.8479\n",
    "* Облигация на 2 года, с купонным платежом 1.5%, раз в полгода: 98055.8851\n",
    "* Облигация на 3 года, с купонным платежом 1%, раз в полгода: 92706.3023\n",
    "\n",
    "Все облигации номиналом 100000.\n",
    "\n",
    "Расчитать процентные ставки для кривой доходности для следующих интервалов времени: полгода, год, 2 года, 3 года.\n",
    "Использовать формулу непрерывного начисления процентов.\n",
    "\n",
    "Ответ показать в виде таблицы."
   ]
  },
  {
   "cell_type": "code",
   "execution_count": 1,
   "metadata": {},
   "outputs": [],
   "source": [
    "import numpy as np\n",
    "import pandas as pd\n",
    "import scipy.interpolate\n",
    "import scipy.optimize"
   ]
  },
  {
   "cell_type": "code",
   "execution_count": 3,
   "metadata": {
    "id": "B2sUxzd3nidw"
   },
   "outputs": [],
   "source": [
    "N = 100000\n",
    "prices = np.array([98708.4135, 99980.8479, 98055.8851, 92706.3023])\n",
    "rates_bond = np.array([0, 1.5, 1.5, 1])/100*N"
   ]
  },
  {
   "cell_type": "code",
   "execution_count": 4,
   "metadata": {},
   "outputs": [],
   "source": [
    "def DF(r_t,t):\n",
    "    if callable(r_t):\n",
    "        r = r_t(t)\n",
    "    else:\n",
    "        r = r_t\n",
    "    return np.exp(-r*t)\n",
    "\n",
    "def r_DF(DF, t):\n",
    "    return - np.log(DF)/t"
   ]
  },
  {
   "cell_type": "code",
   "execution_count": 5,
   "metadata": {
    "id": "NLxjnfJDnjEQ"
   },
   "outputs": [],
   "source": [
    "DF_06 = prices[0] / N\n",
    "rates06 = r_DF(DF_06, 1/2)"
   ]
  },
  {
   "cell_type": "code",
   "execution_count": 6,
   "metadata": {},
   "outputs": [],
   "source": [
    "DF_12 = (prices[1] - rates_bond[1]*DF_06)/(N+rates_bond[1])\n",
    "rates12 = r_DF(DF_12, 1)"
   ]
  },
  {
   "cell_type": "code",
   "execution_count": 8,
   "metadata": {},
   "outputs": [],
   "source": [
    "def diff_B_24_for_r_24(r_24):\n",
    "    DF_24 = DF(r_24, 2)\n",
    "    r_18 = (r_24+rates12)/2\n",
    "    DF_18 = DF(r_18, 1.5)\n",
    "    c = rates_bond[2]\n",
    "    #print((c*DF_06 + c*DF_12 + c*DF_18 + (c+N)*DF_24))\n",
    "    return prices[2] - (c*DF_06 + c*DF_12 + c*DF_18 + (c+N)*DF_24)\n",
    "\n",
    "sol = scipy.optimize.root(diff_B_24_for_r_24, rates12)\n",
    "\n",
    "rates24 = sol.x[0]\n"
   ]
  },
  {
   "cell_type": "code",
   "execution_count": 9,
   "metadata": {},
   "outputs": [],
   "source": [
    "rates18 = (rates12+rates24)/2\n",
    "DF_18 = DF(rates18, 1.5)\n",
    "DF_24 = DF(rates24, 2)"
   ]
  },
  {
   "cell_type": "code",
   "execution_count": 10,
   "metadata": {},
   "outputs": [],
   "source": [
    "def diff_B_36_for_r_36(r_36):\n",
    "    DF_36 = DF(r_36, 3)\n",
    "    r_30 = (r_36 + rates24)/2\n",
    "    DF_30 = DF(r_30, 2.5)\n",
    "    c = rates_bond[3]\n",
    "    return prices[3] - (c*DF_06 + c*DF_12 + c*DF_18 + c*DF_24 + c*DF_30 + (c+N)*DF_36)\n",
    "\n",
    "sol = scipy.optimize.root(diff_B_36_for_r_36, rates24)\n",
    "\n",
    "rates36 = sol.x[0]"
   ]
  },
  {
   "cell_type": "code",
   "execution_count": 15,
   "metadata": {},
   "outputs": [],
   "source": [
    "rates = np.array([rates06, rates12, rates24, rates36])\n",
    "rates = np.around(rates, decimals=4)\n",
    "times = np.array([0.5, 1, 2, 3])"
   ]
  },
  {
   "cell_type": "code",
   "execution_count": 16,
   "metadata": {},
   "outputs": [
    {
     "data": {
      "text/html": [
       "<div>\n",
       "<style scoped>\n",
       "    .dataframe tbody tr th:only-of-type {\n",
       "        vertical-align: middle;\n",
       "    }\n",
       "\n",
       "    .dataframe tbody tr th {\n",
       "        vertical-align: top;\n",
       "    }\n",
       "\n",
       "    .dataframe thead th {\n",
       "        text-align: right;\n",
       "    }\n",
       "</style>\n",
       "<table border=\"1\" class=\"dataframe\">\n",
       "  <thead>\n",
       "    <tr style=\"text-align: right;\">\n",
       "      <th></th>\n",
       "      <th>0</th>\n",
       "      <th>1</th>\n",
       "      <th>2</th>\n",
       "      <th>3</th>\n",
       "    </tr>\n",
       "  </thead>\n",
       "  <tbody>\n",
       "    <tr>\n",
       "      <th>time (y)</th>\n",
       "      <td>0.500</td>\n",
       "      <td>1.00</td>\n",
       "      <td>2.00</td>\n",
       "      <td>3.000</td>\n",
       "    </tr>\n",
       "    <tr>\n",
       "      <th>rate (%)</th>\n",
       "      <td>0.026</td>\n",
       "      <td>0.03</td>\n",
       "      <td>0.04</td>\n",
       "      <td>0.046</td>\n",
       "    </tr>\n",
       "  </tbody>\n",
       "</table>\n",
       "</div>"
      ],
      "text/plain": [
       "              0     1     2      3\n",
       "time (y)  0.500  1.00  2.00  3.000\n",
       "rate (%)  0.026  0.03  0.04  0.046"
      ]
     },
     "execution_count": 16,
     "metadata": {},
     "output_type": "execute_result"
    }
   ],
   "source": [
    "pd.DataFrame(data = (times, rates), index=(\"time (y)\", \"rate (%)\"))"
   ]
  },
  {
   "cell_type": "code",
   "execution_count": null,
   "metadata": {},
   "outputs": [],
   "source": []
  }
 ],
 "metadata": {
  "colab": {
   "name": "ДЗ1_QF_2021.ipynb",
   "provenance": []
  },
  "kernelspec": {
   "display_name": "Python 3",
   "language": "python",
   "name": "python3"
  },
  "language_info": {
   "codemirror_mode": {
    "name": "ipython",
    "version": 3
   },
   "file_extension": ".py",
   "mimetype": "text/x-python",
   "name": "python",
   "nbconvert_exporter": "python",
   "pygments_lexer": "ipython3",
   "version": "3.7.6"
  }
 },
 "nbformat": 4,
 "nbformat_minor": 1
}
