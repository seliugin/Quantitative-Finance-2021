{
 "cells": [
  {
   "cell_type": "markdown",
   "metadata": {},
   "source": [
    "# Задача 1"
   ]
  },
  {
   "cell_type": "markdown",
   "metadata": {},
   "source": [
    "Рассмотрим такую стратегию динамического хеджирования: в начальный момент времени мы покупаем базовый актив, в колличестве равном дельте call опциона. \n",
    "Далее мы перебалансируем наш портфель с каким-то шагом по времени. На каждом шаге мы покупаем или продаем базовый актив из такого расчета, что бы у нас на балансе опять был базовый актив, в колличестве равном дельте call опциона, с учетом изменившегося курса актива.\n",
    "\n",
    "Используя симмуляции возможных реализаций процесса цены актива как в методе Монте-Карло сделайте код, который нарисует график для суммарной стоимости владания такой стратегией для некоторого кол-ва симмуляций.\n",
    "\n",
    "График должен представлят из себя диаграмму рассеяния (scatter plot) в координатах $x = S_T$, $y = Total Profit_T$\n",
    "\n",
    "\n",
    "Параметры для расчета:"
   ]
  },
  {
   "cell_type": "code",
   "execution_count": null,
   "metadata": {
    "ExecuteTime": {
     "end_time": "2019-11-04T10:41:28.558142Z",
     "start_time": "2019-11-04T10:41:28.549708Z"
    }
   },
   "outputs": [],
   "source": [
    "S0 = 80.; K = 85.; T = 1.0; r = 0.05; q = 0.0; sigma = 0.2\n",
    "M = 360 # number of steps in time\n",
    "I = 1000 # number of paths to generate"
   ]
  },
  {
   "cell_type": "code",
   "execution_count": null,
   "metadata": {
    "ExecuteTime": {
     "end_time": "2020-04-12T13:43:00.756499Z",
     "start_time": "2020-04-12T13:43:00.517429Z"
    }
   },
   "outputs": [],
   "source": [
    "# Значение spot на текущем шаге симуляции \n",
    "S = np.full(I, S0)\n",
    "# Значение payoff на текущем шаге симуляции \n",
    "P = np.zeros(I)\n",
    "\n",
    "# TODO: set initial portfolio\n",
    "#\n",
    "dt = float(T) / M\n",
    "for i in range(1, M + 1):\n",
    "    z = standard_normal(I)\n",
    "    S = S * np.exp((r - 0.5 * sigma ** 2) * dt + sigma * m.sqrt(dt) * z)\n",
    "    P *= np.exp(r * dt)\n",
    "    if i < M:\n",
    "        # TODO: rebalance portfolio for the current step\n",
    "        pass\n",
    "# TODO : close the position\n"
   ]
  },
  {
   "cell_type": "code",
   "execution_count": null,
   "metadata": {
    "ExecuteTime": {
     "end_time": "2019-11-04T10:41:30.587193Z",
     "start_time": "2019-11-04T10:41:28.571Z"
    }
   },
   "outputs": [],
   "source": [
    "import matplotlib.pyplot as plt\n",
    "import matplotlib\n",
    "%matplotlib inline\n",
    "\n",
    "lw = 2.5 # line width\n",
    "fs = 12  # fontsize\n",
    "picWidth=12; picHeight=8;\n",
    "\n",
    "matplotlib.rcParams.update({'font.size': 22})\n",
    "plt.figure(figsize=(picWidth, picHeight))\n",
    "\n",
    "plt.plot(S, P, 'bo', linewidth=lw)\n",
    "plt.grid(True)\n",
    "plt.xlabel('Spot at expiry')\n",
    "plt.ylabel('Total payoff')"
   ]
  },
  {
   "cell_type": "code",
   "execution_count": null,
   "metadata": {},
   "outputs": [],
   "source": []
  }
 ],
 "metadata": {
  "hide_input": false,
  "kernelspec": {
   "display_name": "Python 3",
   "language": "python",
   "name": "python3"
  },
  "language_info": {
   "codemirror_mode": {
    "name": "ipython",
    "version": 3
   },
   "file_extension": ".py",
   "mimetype": "text/x-python",
   "name": "python",
   "nbconvert_exporter": "python",
   "pygments_lexer": "ipython3",
   "version": "3.7.6"
  },
  "toc": {
   "nav_menu": {},
   "number_sections": true,
   "sideBar": true,
   "skip_h1_title": false,
   "title_cell": "Table of Contents",
   "title_sidebar": "Contents",
   "toc_cell": false,
   "toc_position": {
    "height": "calc(100% - 180px)",
    "left": "10px",
    "top": "150px",
    "width": "213px"
   },
   "toc_section_display": true,
   "toc_window_display": true
  }
 },
 "nbformat": 4,
 "nbformat_minor": 2
}
